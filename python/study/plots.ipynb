{
 "cells": [
  {
   "cell_type": "code",
   "execution_count": 25,
   "id": "fd67eb61",
   "metadata": {},
   "outputs": [
    {
     "name": "stdout",
     "output_type": "stream",
     "text": [
      "  Country_Region  Confirmed   Deaths  Recovered\n",
      "0             US   88754821  1021306        0.0\n",
      "1          India   43652944   525474        0.0\n",
      "2         Brazil   32940507   673758        0.0\n",
      "3         France   32570121   151218        0.0\n",
      "4        Germany   29180489   142035        0.0\n"
     ]
    },
    {
     "data": {
      "application/vnd.plotly.v1+json": {
       "config": {
        "plotlyServerURL": "https://plot.ly"
       },
       "data": [
        {
         "customdata": [
          [
           88754821,
           0,
           1021306,
           "US"
          ],
          [
           43652944,
           0,
           525474,
           "India"
          ],
          [
           32940507,
           0,
           673758,
           "Brazil"
          ],
          [
           32570121,
           0,
           151218,
           "France"
          ],
          [
           29180489,
           0,
           142035,
           "Germany"
          ],
          [
           23088074,
           0,
           181398,
           "United Kingdom"
          ],
          [
           19523262,
           0,
           169233,
           "Italy"
          ],
          [
           18561861,
           0,
           24668,
           "Korea, South"
          ],
          [
           18195924,
           0,
           373896,
           "Russia"
          ],
          [
           15180444,
           0,
           99057,
           "Turkey"
          ],
          [
           12973615,
           0,
           108730,
           "Spain"
          ],
          [
           10755381,
           0,
           43089,
           "Vietnam"
          ],
          [
           9730993,
           0,
           31443,
           "Japan"
          ],
          [
           9426171,
           0,
           129145,
           "Argentina"
          ],
          [
           8561571,
           0,
           10384,
           "Australia"
          ],
          [
           8353626,
           0,
           23032,
           "Netherlands"
          ],
          [
           7251429,
           0,
           141444,
           "Iran"
          ],
          [
           6265311,
           0,
           326097,
           "Mexico"
          ],
          [
           6198848,
           0,
           140202,
           "Colombia"
          ],
          [
           6112986,
           0,
           156798,
           "Indonesia"
          ],
          [
           6022454,
           0,
           116453,
           "Poland"
          ],
          [
           5257536,
           0,
           24346,
           "Portugal"
          ],
          [
           5040518,
           0,
           112459,
           "Ukraine"
          ],
          [
           4598391,
           0,
           35816,
           "Malaysia"
          ],
          [
           4573219,
           0,
           20120,
           "Austria"
          ],
          [
           4548533,
           0,
           30882,
           "Thailand"
          ],
          [
           4462295,
           0,
           11069,
           "Israel"
          ],
          [
           4320107,
           0,
           32015,
           "Belgium"
          ],
          [
           4101156,
           0,
           7720,
           "Taiwan*"
          ],
          [
           4090523,
           0,
           58860,
           "Chile"
          ],
          [
           3997975,
           0,
           101880,
           "South Africa"
          ],
          [
           3991994,
           0,
           42215,
           "Canada"
          ],
          [
           3943792,
           0,
           40334,
           "Czechia"
          ],
          [
           3843142,
           0,
           30476,
           "Greece"
          ],
          [
           3805774,
           0,
           13844,
           "Switzerland"
          ],
          [
           3720054,
           0,
           60640,
           "Philippines"
          ],
          [
           3675152,
           0,
           213685,
           "Peru"
          ],
          [
           3240466,
           0,
           6578,
           "Denmark"
          ],
          [
           2942130,
           0,
           65788,
           "Romania"
          ],
          [
           2557839,
           0,
           20160,
           "Slovakia"
          ],
          [
           2523404,
           0,
           19144,
           "Sweden"
          ],
          [
           2388414,
           0,
           25255,
           "Iraq"
          ],
          [
           2167619,
           0,
           14647,
           "China"
          ],
          [
           2043051,
           0,
           16152,
           "Serbia"
          ],
          [
           1990375,
           0,
           29203,
           "Bangladesh"
          ],
          [
           1932788,
           0,
           46661,
           "Hungary"
          ],
          [
           1700526,
           0,
           14068,
           "Jordan"
          ],
          [
           1662299,
           0,
           16844,
           "Georgia"
          ],
          [
           1614631,
           0,
           7536,
           "Ireland"
          ],
          [
           1543505,
           0,
           30424,
           "Pakistan"
          ],
          [
           1534799,
           0,
           1432,
           "Singapore"
          ],
          [
           1456245,
           0,
           1646,
           "New Zealand"
          ],
          [
           1451104,
           0,
           3415,
           "Norway"
          ],
          [
           1399173,
           0,
           19018,
           "Kazakhstan"
          ],
          [
           1242241,
           0,
           16157,
           "Morocco"
          ],
          [
           1179497,
           0,
           37277,
           "Bulgaria"
          ],
          [
           1165105,
           0,
           9181,
           "Lithuania"
          ],
          [
           1159241,
           0,
           16118,
           "Croatia"
          ],
          [
           1158485,
           0,
           4941,
           "Finland"
          ],
          [
           1125720,
           0,
           10477,
           "Lebanon"
          ],
          [
           1106459,
           0,
           8529,
           "Cuba"
          ],
          [
           1066127,
           0,
           28748,
           "Tunisia"
          ],
          [
           1050175,
           0,
           6660,
           "Slovenia"
          ],
          [
           994037,
           0,
           7118,
           "Belarus"
          ],
          [
           980446,
           0,
           11952,
           "Nepal"
          ],
          [
           965370,
           0,
           7373,
           "Uruguay"
          ],
          [
           964521,
           0,
           2324,
           "United Arab Emirates"
          ],
          [
           948749,
           0,
           18725,
           "Guatemala"
          ],
          [
           948655,
           0,
           21970,
           "Bolivia"
          ],
          [
           932710,
           0,
           8384,
           "Panama"
          ],
          [
           929653,
           0,
           2119,
           "Mongolia"
          ],
          [
           922166,
           0,
           35755,
           "Ecuador"
          ],
          [
           904934,
           0,
           8525,
           "Costa Rica"
          ],
          [
           841132,
           0,
           5871,
           "Latvia"
          ],
          [
           800462,
           0,
           9221,
           "Saudi Arabia"
          ],
          [
           793388,
           0,
           9717,
           "Azerbaijan"
          ],
          [
           673829,
           0,
           19036,
           "Paraguay"
          ],
          [
           664292,
           0,
           16526,
           "Sri Lanka"
          ],
          [
           662490,
           0,
           5662,
           "West Bank and Gaza"
          ],
          [
           648216,
           0,
           2556,
           "Kuwait"
          ],
          [
           640656,
           0,
           1500,
           "Bahrain"
          ],
          [
           618873,
           0,
           4383,
           "Dominican Republic"
          ],
          [
           613751,
           0,
           19434,
           "Burma"
          ],
          [
           581560,
           0,
           2599,
           "Estonia"
          ],
          [
           530510,
           0,
           1079,
           "Cyprus"
          ],
          [
           528429,
           0,
           5741,
           "Venezuela"
          ],
          [
           521182,
           0,
           11570,
           "Moldova"
          ],
          [
           515645,
           0,
           24724,
           "Egypt"
          ],
          [
           502189,
           0,
           6430,
           "Libya"
          ],
          [
           490486,
           0,
           7552,
           "Ethiopia"
          ],
          [
           429848,
           0,
           10912,
           "Honduras"
          ],
          [
           423771,
           0,
           8629,
           "Armenia"
          ],
          [
           391641,
           0,
           4628,
           "Oman"
          ],
          [
           389415,
           0,
           680,
           "Qatar"
          ],
          [
           379817,
           0,
           15810,
           "Bosnia and Herzegovina"
          ],
          [
           335929,
           0,
           5668,
           "Kenya"
          ],
          [
           327102,
           0,
           4008,
           "Zambia"
          ],
          [
           324154,
           0,
           2753,
           "Botswana"
          ],
          [
           316219,
           0,
           9335,
           "North Macedonia"
          ],
          [
           288176,
           0,
           3514,
           "Albania"
          ],
          [
           271049,
           0,
           1098,
           "Luxembourg"
          ],
          [
           266274,
           0,
           6875,
           "Algeria"
          ],
          [
           258517,
           0,
           3144,
           "Nigeria"
          ],
          [
           255953,
           0,
           5565,
           "Zimbabwe"
          ],
          [
           243768,
           0,
           2729,
           "Montenegro"
          ],
          [
           241738,
           0,
           1637,
           "Uzbekistan"
          ],
          [
           233082,
           0,
           1008,
           "Mauritius"
          ],
          [
           231852,
           0,
           3143,
           "Kosovo"
          ],
          [
           228679,
           0,
           2213,
           "Mozambique"
          ],
          [
           210375,
           0,
           757,
           "Laos"
          ],
          [
           201215,
           0,
           2991,
           "Kyrgyzstan"
          ],
          [
           197707,
           0,
           179,
           "Iceland"
          ],
          [
           183491,
           0,
           307,
           "Maldives"
          ],
          [
           183268,
           0,
           7728,
           "Afghanistan"
          ],
          [
           180970,
           0,
           4163,
           "El Salvador"
          ],
          [
           176682,
           0,
           225,
           "Brunei"
          ],
          [
           169253,
           0,
           4065,
           "Namibia"
          ],
          [
           168394,
           0,
           3627,
           "Uganda"
          ],
          [
           168322,
           0,
           4028,
           "Trinidad and Tobago"
          ],
          [
           166816,
           0,
           1453,
           "Ghana"
          ],
          [
           144092,
           0,
           3158,
           "Jamaica"
          ],
          [
           136362,
           0,
           3056,
           "Cambodia"
          ],
          [
           131691,
           0,
           1461,
           "Rwanda"
          ],
          [
           120068,
           0,
           1931,
           "Cameroon"
          ],
          [
           109043,
           0,
           762,
           "Malta"
          ],
          [
           101320,
           0,
           1900,
           "Angola"
          ],
          [
           91737,
           0,
           1376,
           "Congo (Kinshasa)"
          ],
          [
           86750,
           0,
           2649,
           "Malawi"
          ],
          [
           86504,
           0,
           1968,
           "Senegal"
          ],
          [
           86154,
           0,
           478,
           "Barbados"
          ],
          [
           84084,
           0,
           805,
           "Cote d'Ivoire"
          ],
          [
           80890,
           0,
           1376,
           "Suriname"
          ],
          [
           73219,
           0,
           1417,
           "Eswatini"
          ],
          [
           68225,
           0,
           1262,
           "Guyana"
          ],
          [
           66405,
           0,
           869,
           "Fiji"
          ],
          [
           66098,
           0,
           1403,
           "Madagascar"
          ],
          [
           64948,
           0,
           680,
           "Belize"
          ],
          [
           62745,
           0,
           4952,
           "Sudan"
          ],
          [
           61669,
           0,
           409,
           "Cabo Verde"
          ],
          [
           61296,
           0,
           986,
           "Mauritania"
          ],
          [
           59940,
           0,
           21,
           "Bhutan"
          ],
          [
           55955,
           0,
           3150,
           "Syria"
          ],
          [
           48157,
           0,
           305,
           "Gabon"
          ],
          [
           45000,
           0,
           167,
           "Seychelles"
          ],
          [
           44751,
           0,
           662,
           "Papua New Guinea"
          ],
          [
           44671,
           0,
           153,
           "Andorra"
          ],
          [
           42963,
           0,
           38,
           "Burundi"
          ],
          [
           37624,
           0,
           275,
           "Togo"
          ],
          [
           37358,
           0,
           443,
           "Guinea"
          ],
          [
           36287,
           0,
           822,
           "Bahamas"
          ],
          [
           36174,
           0,
           841,
           "Tanzania"
          ],
          [
           34040,
           0,
           702,
           "Lesotho"
          ],
          [
           31908,
           0,
           837,
           "Haiti"
          ],
          [
           31189,
           0,
           737,
           "Mali"
          ],
          [
           27337,
           0,
           385,
           "Saint Lucia"
          ],
          [
           27216,
           0,
           163,
           "Benin"
          ],
          [
           26900,
           0,
           1361,
           "Somalia"
          ],
          [
           24421,
           0,
           386,
           "Congo (Brazzaville)"
          ],
          [
           22972,
           0,
           133,
           "Timor-Leste"
          ],
          [
           21544,
           0,
           153,
           "Solomon Islands"
          ],
          [
           21044,
           0,
           387,
           "Burkina Faso"
          ],
          [
           18734,
           0,
           116,
           "San Marino"
          ],
          [
           18560,
           0,
           233,
           "Grenada"
          ],
          [
           18141,
           0,
           85,
           "Liechtenstein"
          ],
          [
           17786,
           0,
           125,
           "Tajikistan"
          ],
          [
           17733,
           0,
           138,
           "South Sudan"
          ],
          [
           16467,
           0,
           183,
           "Equatorial Guinea"
          ],
          [
           15690,
           0,
           189,
           "Djibouti"
          ],
          [
           15115,
           0,
           29,
           "Samoa"
          ],
          [
           14852,
           0,
           68,
           "Dominica"
          ],
          [
           14721,
           0,
           243,
           "Nicaragua"
          ],
          [
           14675,
           0,
           113,
           "Central African Republic"
          ],
          [
           13480,
           0,
           59,
           "Monaco"
          ],
          [
           12382,
           0,
           12,
           "Tonga"
          ],
          [
           12009,
           0,
           365,
           "Gambia"
          ],
          [
           11832,
           0,
           2149,
           "Yemen"
          ],
          [
           11642,
           0,
           14,
           "Vanuatu"
          ],
          [
           9827,
           0,
           103,
           "Eritrea"
          ],
          [
           9096,
           0,
           311,
           "Niger"
          ],
          [
           9083,
           0,
           114,
           "Saint Vincent and the Grenadines"
          ],
          [
           8686,
           0,
           143,
           "Antigua and Barbuda"
          ],
          [
           8400,
           0,
           171,
           "Guinea-Bissau"
          ],
          [
           8161,
           0,
           160,
           "Comoros"
          ],
          [
           7718,
           0,
           125,
           "Sierra Leone"
          ],
          [
           7502,
           0,
           294,
           "Liberia"
          ],
          [
           7427,
           0,
           193,
           "Chad"
          ],
          [
           6308,
           0,
           44,
           "Saint Kitts and Nevis"
          ],
          [
           6064,
           0,
           74,
           "Sao Tome and Principe"
          ],
          [
           5269,
           0,
           6,
           "Palau"
          ],
          [
           3236,
           0,
           13,
           "Kiribati"
          ],
          [
           865,
           0,
           0,
           "Summer Olympics 2020"
          ],
          [
           712,
           0,
           13,
           "Diamond Princess"
          ],
          [
           535,
           0,
           0,
           "Winter Olympics 2022"
          ],
          [
           47,
           0,
           0,
           "Marshall Islands"
          ],
          [
           38,
           0,
           0,
           "Micronesia"
          ],
          [
           29,
           0,
           0,
           "Holy See"
          ],
          [
           11,
           0,
           0,
           "Antarctica"
          ],
          [
           9,
           0,
           2,
           "MS Zaandam"
          ],
          [
           1,
           0,
           6,
           "Korea, North"
          ]
         ],
         "geo": "geo",
         "hovertemplate": "<b>%{hovertext}</b><br><br>Confirmed=%{marker.color:,2f}<br>Recovered=%{customdata[1]}<br>Deaths=%{customdata[2]}<extra></extra>",
         "hovertext": [
          "US",
          "India",
          "Brazil",
          "France",
          "Germany",
          "United Kingdom",
          "Italy",
          "Korea, South",
          "Russia",
          "Turkey",
          "Spain",
          "Vietnam",
          "Japan",
          "Argentina",
          "Australia",
          "Netherlands",
          "Iran",
          "Mexico",
          "Colombia",
          "Indonesia",
          "Poland",
          "Portugal",
          "Ukraine",
          "Malaysia",
          "Austria",
          "Thailand",
          "Israel",
          "Belgium",
          "Taiwan*",
          "Chile",
          "South Africa",
          "Canada",
          "Czechia",
          "Greece",
          "Switzerland",
          "Philippines",
          "Peru",
          "Denmark",
          "Romania",
          "Slovakia",
          "Sweden",
          "Iraq",
          "China",
          "Serbia",
          "Bangladesh",
          "Hungary",
          "Jordan",
          "Georgia",
          "Ireland",
          "Pakistan",
          "Singapore",
          "New Zealand",
          "Norway",
          "Kazakhstan",
          "Morocco",
          "Bulgaria",
          "Lithuania",
          "Croatia",
          "Finland",
          "Lebanon",
          "Cuba",
          "Tunisia",
          "Slovenia",
          "Belarus",
          "Nepal",
          "Uruguay",
          "United Arab Emirates",
          "Guatemala",
          "Bolivia",
          "Panama",
          "Mongolia",
          "Ecuador",
          "Costa Rica",
          "Latvia",
          "Saudi Arabia",
          "Azerbaijan",
          "Paraguay",
          "Sri Lanka",
          "West Bank and Gaza",
          "Kuwait",
          "Bahrain",
          "Dominican Republic",
          "Burma",
          "Estonia",
          "Cyprus",
          "Venezuela",
          "Moldova",
          "Egypt",
          "Libya",
          "Ethiopia",
          "Honduras",
          "Armenia",
          "Oman",
          "Qatar",
          "Bosnia and Herzegovina",
          "Kenya",
          "Zambia",
          "Botswana",
          "North Macedonia",
          "Albania",
          "Luxembourg",
          "Algeria",
          "Nigeria",
          "Zimbabwe",
          "Montenegro",
          "Uzbekistan",
          "Mauritius",
          "Kosovo",
          "Mozambique",
          "Laos",
          "Kyrgyzstan",
          "Iceland",
          "Maldives",
          "Afghanistan",
          "El Salvador",
          "Brunei",
          "Namibia",
          "Uganda",
          "Trinidad and Tobago",
          "Ghana",
          "Jamaica",
          "Cambodia",
          "Rwanda",
          "Cameroon",
          "Malta",
          "Angola",
          "Congo (Kinshasa)",
          "Malawi",
          "Senegal",
          "Barbados",
          "Cote d'Ivoire",
          "Suriname",
          "Eswatini",
          "Guyana",
          "Fiji",
          "Madagascar",
          "Belize",
          "Sudan",
          "Cabo Verde",
          "Mauritania",
          "Bhutan",
          "Syria",
          "Gabon",
          "Seychelles",
          "Papua New Guinea",
          "Andorra",
          "Burundi",
          "Togo",
          "Guinea",
          "Bahamas",
          "Tanzania",
          "Lesotho",
          "Haiti",
          "Mali",
          "Saint Lucia",
          "Benin",
          "Somalia",
          "Congo (Brazzaville)",
          "Timor-Leste",
          "Solomon Islands",
          "Burkina Faso",
          "San Marino",
          "Grenada",
          "Liechtenstein",
          "Tajikistan",
          "South Sudan",
          "Equatorial Guinea",
          "Djibouti",
          "Samoa",
          "Dominica",
          "Nicaragua",
          "Central African Republic",
          "Monaco",
          "Tonga",
          "Gambia",
          "Yemen",
          "Vanuatu",
          "Eritrea",
          "Niger",
          "Saint Vincent and the Grenadines",
          "Antigua and Barbuda",
          "Guinea-Bissau",
          "Comoros",
          "Sierra Leone",
          "Liberia",
          "Chad",
          "Saint Kitts and Nevis",
          "Sao Tome and Principe",
          "Palau",
          "Kiribati",
          "Summer Olympics 2020",
          "Diamond Princess",
          "Winter Olympics 2022",
          "Marshall Islands",
          "Micronesia",
          "Holy See",
          "Antarctica",
          "MS Zaandam",
          "Korea, North"
         ],
         "legendgroup": "",
         "locationmode": "country names",
         "locations": [
          "US",
          "India",
          "Brazil",
          "France",
          "Germany",
          "United Kingdom",
          "Italy",
          "Korea, South",
          "Russia",
          "Turkey",
          "Spain",
          "Vietnam",
          "Japan",
          "Argentina",
          "Australia",
          "Netherlands",
          "Iran",
          "Mexico",
          "Colombia",
          "Indonesia",
          "Poland",
          "Portugal",
          "Ukraine",
          "Malaysia",
          "Austria",
          "Thailand",
          "Israel",
          "Belgium",
          "Taiwan*",
          "Chile",
          "South Africa",
          "Canada",
          "Czechia",
          "Greece",
          "Switzerland",
          "Philippines",
          "Peru",
          "Denmark",
          "Romania",
          "Slovakia",
          "Sweden",
          "Iraq",
          "China",
          "Serbia",
          "Bangladesh",
          "Hungary",
          "Jordan",
          "Georgia",
          "Ireland",
          "Pakistan",
          "Singapore",
          "New Zealand",
          "Norway",
          "Kazakhstan",
          "Morocco",
          "Bulgaria",
          "Lithuania",
          "Croatia",
          "Finland",
          "Lebanon",
          "Cuba",
          "Tunisia",
          "Slovenia",
          "Belarus",
          "Nepal",
          "Uruguay",
          "United Arab Emirates",
          "Guatemala",
          "Bolivia",
          "Panama",
          "Mongolia",
          "Ecuador",
          "Costa Rica",
          "Latvia",
          "Saudi Arabia",
          "Azerbaijan",
          "Paraguay",
          "Sri Lanka",
          "West Bank and Gaza",
          "Kuwait",
          "Bahrain",
          "Dominican Republic",
          "Burma",
          "Estonia",
          "Cyprus",
          "Venezuela",
          "Moldova",
          "Egypt",
          "Libya",
          "Ethiopia",
          "Honduras",
          "Armenia",
          "Oman",
          "Qatar",
          "Bosnia and Herzegovina",
          "Kenya",
          "Zambia",
          "Botswana",
          "North Macedonia",
          "Albania",
          "Luxembourg",
          "Algeria",
          "Nigeria",
          "Zimbabwe",
          "Montenegro",
          "Uzbekistan",
          "Mauritius",
          "Kosovo",
          "Mozambique",
          "Laos",
          "Kyrgyzstan",
          "Iceland",
          "Maldives",
          "Afghanistan",
          "El Salvador",
          "Brunei",
          "Namibia",
          "Uganda",
          "Trinidad and Tobago",
          "Ghana",
          "Jamaica",
          "Cambodia",
          "Rwanda",
          "Cameroon",
          "Malta",
          "Angola",
          "Congo (Kinshasa)",
          "Malawi",
          "Senegal",
          "Barbados",
          "Cote d'Ivoire",
          "Suriname",
          "Eswatini",
          "Guyana",
          "Fiji",
          "Madagascar",
          "Belize",
          "Sudan",
          "Cabo Verde",
          "Mauritania",
          "Bhutan",
          "Syria",
          "Gabon",
          "Seychelles",
          "Papua New Guinea",
          "Andorra",
          "Burundi",
          "Togo",
          "Guinea",
          "Bahamas",
          "Tanzania",
          "Lesotho",
          "Haiti",
          "Mali",
          "Saint Lucia",
          "Benin",
          "Somalia",
          "Congo (Brazzaville)",
          "Timor-Leste",
          "Solomon Islands",
          "Burkina Faso",
          "San Marino",
          "Grenada",
          "Liechtenstein",
          "Tajikistan",
          "South Sudan",
          "Equatorial Guinea",
          "Djibouti",
          "Samoa",
          "Dominica",
          "Nicaragua",
          "Central African Republic",
          "Monaco",
          "Tonga",
          "Gambia",
          "Yemen",
          "Vanuatu",
          "Eritrea",
          "Niger",
          "Saint Vincent and the Grenadines",
          "Antigua and Barbuda",
          "Guinea-Bissau",
          "Comoros",
          "Sierra Leone",
          "Liberia",
          "Chad",
          "Saint Kitts and Nevis",
          "Sao Tome and Principe",
          "Palau",
          "Kiribati",
          "Summer Olympics 2020",
          "Diamond Princess",
          "Winter Olympics 2022",
          "Marshall Islands",
          "Micronesia",
          "Holy See",
          "Antarctica",
          "MS Zaandam",
          "Korea, North"
         ],
         "marker": {
          "color": [
           88754821,
           43652944,
           32940507,
           32570121,
           29180489,
           23088074,
           19523262,
           18561861,
           18195924,
           15180444,
           12973615,
           10755381,
           9730993,
           9426171,
           8561571,
           8353626,
           7251429,
           6265311,
           6198848,
           6112986,
           6022454,
           5257536,
           5040518,
           4598391,
           4573219,
           4548533,
           4462295,
           4320107,
           4101156,
           4090523,
           3997975,
           3991994,
           3943792,
           3843142,
           3805774,
           3720054,
           3675152,
           3240466,
           2942130,
           2557839,
           2523404,
           2388414,
           2167619,
           2043051,
           1990375,
           1932788,
           1700526,
           1662299,
           1614631,
           1543505,
           1534799,
           1456245,
           1451104,
           1399173,
           1242241,
           1179497,
           1165105,
           1159241,
           1158485,
           1125720,
           1106459,
           1066127,
           1050175,
           994037,
           980446,
           965370,
           964521,
           948749,
           948655,
           932710,
           929653,
           922166,
           904934,
           841132,
           800462,
           793388,
           673829,
           664292,
           662490,
           648216,
           640656,
           618873,
           613751,
           581560,
           530510,
           528429,
           521182,
           515645,
           502189,
           490486,
           429848,
           423771,
           391641,
           389415,
           379817,
           335929,
           327102,
           324154,
           316219,
           288176,
           271049,
           266274,
           258517,
           255953,
           243768,
           241738,
           233082,
           231852,
           228679,
           210375,
           201215,
           197707,
           183491,
           183268,
           180970,
           176682,
           169253,
           168394,
           168322,
           166816,
           144092,
           136362,
           131691,
           120068,
           109043,
           101320,
           91737,
           86750,
           86504,
           86154,
           84084,
           80890,
           73219,
           68225,
           66405,
           66098,
           64948,
           62745,
           61669,
           61296,
           59940,
           55955,
           48157,
           45000,
           44751,
           44671,
           42963,
           37624,
           37358,
           36287,
           36174,
           34040,
           31908,
           31189,
           27337,
           27216,
           26900,
           24421,
           22972,
           21544,
           21044,
           18734,
           18560,
           18141,
           17786,
           17733,
           16467,
           15690,
           15115,
           14852,
           14721,
           14675,
           13480,
           12382,
           12009,
           11832,
           11642,
           9827,
           9096,
           9083,
           8686,
           8400,
           8161,
           7718,
           7502,
           7427,
           6308,
           6064,
           5269,
           3236,
           865,
           712,
           535,
           47,
           38,
           29,
           11,
           9,
           1
          ],
          "coloraxis": "coloraxis",
          "size": [
           88754821,
           43652944,
           32940507,
           32570121,
           29180489,
           23088074,
           19523262,
           18561861,
           18195924,
           15180444,
           12973615,
           10755381,
           9730993,
           9426171,
           8561571,
           8353626,
           7251429,
           6265311,
           6198848,
           6112986,
           6022454,
           5257536,
           5040518,
           4598391,
           4573219,
           4548533,
           4462295,
           4320107,
           4101156,
           4090523,
           3997975,
           3991994,
           3943792,
           3843142,
           3805774,
           3720054,
           3675152,
           3240466,
           2942130,
           2557839,
           2523404,
           2388414,
           2167619,
           2043051,
           1990375,
           1932788,
           1700526,
           1662299,
           1614631,
           1543505,
           1534799,
           1456245,
           1451104,
           1399173,
           1242241,
           1179497,
           1165105,
           1159241,
           1158485,
           1125720,
           1106459,
           1066127,
           1050175,
           994037,
           980446,
           965370,
           964521,
           948749,
           948655,
           932710,
           929653,
           922166,
           904934,
           841132,
           800462,
           793388,
           673829,
           664292,
           662490,
           648216,
           640656,
           618873,
           613751,
           581560,
           530510,
           528429,
           521182,
           515645,
           502189,
           490486,
           429848,
           423771,
           391641,
           389415,
           379817,
           335929,
           327102,
           324154,
           316219,
           288176,
           271049,
           266274,
           258517,
           255953,
           243768,
           241738,
           233082,
           231852,
           228679,
           210375,
           201215,
           197707,
           183491,
           183268,
           180970,
           176682,
           169253,
           168394,
           168322,
           166816,
           144092,
           136362,
           131691,
           120068,
           109043,
           101320,
           91737,
           86750,
           86504,
           86154,
           84084,
           80890,
           73219,
           68225,
           66405,
           66098,
           64948,
           62745,
           61669,
           61296,
           59940,
           55955,
           48157,
           45000,
           44751,
           44671,
           42963,
           37624,
           37358,
           36287,
           36174,
           34040,
           31908,
           31189,
           27337,
           27216,
           26900,
           24421,
           22972,
           21544,
           21044,
           18734,
           18560,
           18141,
           17786,
           17733,
           16467,
           15690,
           15115,
           14852,
           14721,
           14675,
           13480,
           12382,
           12009,
           11832,
           11642,
           9827,
           9096,
           9083,
           8686,
           8400,
           8161,
           7718,
           7502,
           7427,
           6308,
           6064,
           5269,
           3236,
           865,
           712,
           535,
           47,
           38,
           29,
           11,
           9,
           1
          ],
          "sizemode": "area",
          "sizeref": 55471.763125,
          "symbol": "circle"
         },
         "mode": "markers",
         "name": "",
         "showlegend": false,
         "type": "scattergeo"
        }
       ],
       "layout": {
        "coloraxis": {
         "colorbar": {
          "title": {
           "text": "Confirmed"
          }
         },
         "colorscale": [
          [
           0,
           "#0d0887"
          ],
          [
           0.1111111111111111,
           "#46039f"
          ],
          [
           0.2222222222222222,
           "#7201a8"
          ],
          [
           0.3333333333333333,
           "#9c179e"
          ],
          [
           0.4444444444444444,
           "#bd3786"
          ],
          [
           0.5555555555555556,
           "#d8576b"
          ],
          [
           0.6666666666666666,
           "#ed7953"
          ],
          [
           0.7777777777777778,
           "#fb9f3a"
          ],
          [
           0.8888888888888888,
           "#fdca26"
          ],
          [
           1,
           "#f0f921"
          ]
         ]
        },
        "geo": {
         "center": {},
         "domain": {
          "x": [
           0,
           1
          ],
          "y": [
           0,
           1
          ]
         }
        },
        "legend": {
         "itemsizing": "constant",
         "tracegroupgap": 0
        },
        "margin": {
         "t": 60
        },
        "template": {
         "data": {
          "bar": [
           {
            "error_x": {
             "color": "#f2f5fa"
            },
            "error_y": {
             "color": "#f2f5fa"
            },
            "marker": {
             "line": {
              "color": "rgb(17,17,17)",
              "width": 0.5
             },
             "pattern": {
              "fillmode": "overlay",
              "size": 10,
              "solidity": 0.2
             }
            },
            "type": "bar"
           }
          ],
          "barpolar": [
           {
            "marker": {
             "line": {
              "color": "rgb(17,17,17)",
              "width": 0.5
             },
             "pattern": {
              "fillmode": "overlay",
              "size": 10,
              "solidity": 0.2
             }
            },
            "type": "barpolar"
           }
          ],
          "carpet": [
           {
            "aaxis": {
             "endlinecolor": "#A2B1C6",
             "gridcolor": "#506784",
             "linecolor": "#506784",
             "minorgridcolor": "#506784",
             "startlinecolor": "#A2B1C6"
            },
            "baxis": {
             "endlinecolor": "#A2B1C6",
             "gridcolor": "#506784",
             "linecolor": "#506784",
             "minorgridcolor": "#506784",
             "startlinecolor": "#A2B1C6"
            },
            "type": "carpet"
           }
          ],
          "choropleth": [
           {
            "colorbar": {
             "outlinewidth": 0,
             "ticks": ""
            },
            "type": "choropleth"
           }
          ],
          "contour": [
           {
            "colorbar": {
             "outlinewidth": 0,
             "ticks": ""
            },
            "colorscale": [
             [
              0,
              "#0d0887"
             ],
             [
              0.1111111111111111,
              "#46039f"
             ],
             [
              0.2222222222222222,
              "#7201a8"
             ],
             [
              0.3333333333333333,
              "#9c179e"
             ],
             [
              0.4444444444444444,
              "#bd3786"
             ],
             [
              0.5555555555555556,
              "#d8576b"
             ],
             [
              0.6666666666666666,
              "#ed7953"
             ],
             [
              0.7777777777777778,
              "#fb9f3a"
             ],
             [
              0.8888888888888888,
              "#fdca26"
             ],
             [
              1,
              "#f0f921"
             ]
            ],
            "type": "contour"
           }
          ],
          "contourcarpet": [
           {
            "colorbar": {
             "outlinewidth": 0,
             "ticks": ""
            },
            "type": "contourcarpet"
           }
          ],
          "heatmap": [
           {
            "colorbar": {
             "outlinewidth": 0,
             "ticks": ""
            },
            "colorscale": [
             [
              0,
              "#0d0887"
             ],
             [
              0.1111111111111111,
              "#46039f"
             ],
             [
              0.2222222222222222,
              "#7201a8"
             ],
             [
              0.3333333333333333,
              "#9c179e"
             ],
             [
              0.4444444444444444,
              "#bd3786"
             ],
             [
              0.5555555555555556,
              "#d8576b"
             ],
             [
              0.6666666666666666,
              "#ed7953"
             ],
             [
              0.7777777777777778,
              "#fb9f3a"
             ],
             [
              0.8888888888888888,
              "#fdca26"
             ],
             [
              1,
              "#f0f921"
             ]
            ],
            "type": "heatmap"
           }
          ],
          "heatmapgl": [
           {
            "colorbar": {
             "outlinewidth": 0,
             "ticks": ""
            },
            "colorscale": [
             [
              0,
              "#0d0887"
             ],
             [
              0.1111111111111111,
              "#46039f"
             ],
             [
              0.2222222222222222,
              "#7201a8"
             ],
             [
              0.3333333333333333,
              "#9c179e"
             ],
             [
              0.4444444444444444,
              "#bd3786"
             ],
             [
              0.5555555555555556,
              "#d8576b"
             ],
             [
              0.6666666666666666,
              "#ed7953"
             ],
             [
              0.7777777777777778,
              "#fb9f3a"
             ],
             [
              0.8888888888888888,
              "#fdca26"
             ],
             [
              1,
              "#f0f921"
             ]
            ],
            "type": "heatmapgl"
           }
          ],
          "histogram": [
           {
            "marker": {
             "pattern": {
              "fillmode": "overlay",
              "size": 10,
              "solidity": 0.2
             }
            },
            "type": "histogram"
           }
          ],
          "histogram2d": [
           {
            "colorbar": {
             "outlinewidth": 0,
             "ticks": ""
            },
            "colorscale": [
             [
              0,
              "#0d0887"
             ],
             [
              0.1111111111111111,
              "#46039f"
             ],
             [
              0.2222222222222222,
              "#7201a8"
             ],
             [
              0.3333333333333333,
              "#9c179e"
             ],
             [
              0.4444444444444444,
              "#bd3786"
             ],
             [
              0.5555555555555556,
              "#d8576b"
             ],
             [
              0.6666666666666666,
              "#ed7953"
             ],
             [
              0.7777777777777778,
              "#fb9f3a"
             ],
             [
              0.8888888888888888,
              "#fdca26"
             ],
             [
              1,
              "#f0f921"
             ]
            ],
            "type": "histogram2d"
           }
          ],
          "histogram2dcontour": [
           {
            "colorbar": {
             "outlinewidth": 0,
             "ticks": ""
            },
            "colorscale": [
             [
              0,
              "#0d0887"
             ],
             [
              0.1111111111111111,
              "#46039f"
             ],
             [
              0.2222222222222222,
              "#7201a8"
             ],
             [
              0.3333333333333333,
              "#9c179e"
             ],
             [
              0.4444444444444444,
              "#bd3786"
             ],
             [
              0.5555555555555556,
              "#d8576b"
             ],
             [
              0.6666666666666666,
              "#ed7953"
             ],
             [
              0.7777777777777778,
              "#fb9f3a"
             ],
             [
              0.8888888888888888,
              "#fdca26"
             ],
             [
              1,
              "#f0f921"
             ]
            ],
            "type": "histogram2dcontour"
           }
          ],
          "mesh3d": [
           {
            "colorbar": {
             "outlinewidth": 0,
             "ticks": ""
            },
            "type": "mesh3d"
           }
          ],
          "parcoords": [
           {
            "line": {
             "colorbar": {
              "outlinewidth": 0,
              "ticks": ""
             }
            },
            "type": "parcoords"
           }
          ],
          "pie": [
           {
            "automargin": true,
            "type": "pie"
           }
          ],
          "scatter": [
           {
            "marker": {
             "line": {
              "color": "#283442"
             }
            },
            "type": "scatter"
           }
          ],
          "scatter3d": [
           {
            "line": {
             "colorbar": {
              "outlinewidth": 0,
              "ticks": ""
             }
            },
            "marker": {
             "colorbar": {
              "outlinewidth": 0,
              "ticks": ""
             }
            },
            "type": "scatter3d"
           }
          ],
          "scattercarpet": [
           {
            "marker": {
             "colorbar": {
              "outlinewidth": 0,
              "ticks": ""
             }
            },
            "type": "scattercarpet"
           }
          ],
          "scattergeo": [
           {
            "marker": {
             "colorbar": {
              "outlinewidth": 0,
              "ticks": ""
             }
            },
            "type": "scattergeo"
           }
          ],
          "scattergl": [
           {
            "marker": {
             "line": {
              "color": "#283442"
             }
            },
            "type": "scattergl"
           }
          ],
          "scattermapbox": [
           {
            "marker": {
             "colorbar": {
              "outlinewidth": 0,
              "ticks": ""
             }
            },
            "type": "scattermapbox"
           }
          ],
          "scatterpolar": [
           {
            "marker": {
             "colorbar": {
              "outlinewidth": 0,
              "ticks": ""
             }
            },
            "type": "scatterpolar"
           }
          ],
          "scatterpolargl": [
           {
            "marker": {
             "colorbar": {
              "outlinewidth": 0,
              "ticks": ""
             }
            },
            "type": "scatterpolargl"
           }
          ],
          "scatterternary": [
           {
            "marker": {
             "colorbar": {
              "outlinewidth": 0,
              "ticks": ""
             }
            },
            "type": "scatterternary"
           }
          ],
          "surface": [
           {
            "colorbar": {
             "outlinewidth": 0,
             "ticks": ""
            },
            "colorscale": [
             [
              0,
              "#0d0887"
             ],
             [
              0.1111111111111111,
              "#46039f"
             ],
             [
              0.2222222222222222,
              "#7201a8"
             ],
             [
              0.3333333333333333,
              "#9c179e"
             ],
             [
              0.4444444444444444,
              "#bd3786"
             ],
             [
              0.5555555555555556,
              "#d8576b"
             ],
             [
              0.6666666666666666,
              "#ed7953"
             ],
             [
              0.7777777777777778,
              "#fb9f3a"
             ],
             [
              0.8888888888888888,
              "#fdca26"
             ],
             [
              1,
              "#f0f921"
             ]
            ],
            "type": "surface"
           }
          ],
          "table": [
           {
            "cells": {
             "fill": {
              "color": "#506784"
             },
             "line": {
              "color": "rgb(17,17,17)"
             }
            },
            "header": {
             "fill": {
              "color": "#2a3f5f"
             },
             "line": {
              "color": "rgb(17,17,17)"
             }
            },
            "type": "table"
           }
          ]
         },
         "layout": {
          "annotationdefaults": {
           "arrowcolor": "#f2f5fa",
           "arrowhead": 0,
           "arrowwidth": 1
          },
          "autotypenumbers": "strict",
          "coloraxis": {
           "colorbar": {
            "outlinewidth": 0,
            "ticks": ""
           }
          },
          "colorscale": {
           "diverging": [
            [
             0,
             "#8e0152"
            ],
            [
             0.1,
             "#c51b7d"
            ],
            [
             0.2,
             "#de77ae"
            ],
            [
             0.3,
             "#f1b6da"
            ],
            [
             0.4,
             "#fde0ef"
            ],
            [
             0.5,
             "#f7f7f7"
            ],
            [
             0.6,
             "#e6f5d0"
            ],
            [
             0.7,
             "#b8e186"
            ],
            [
             0.8,
             "#7fbc41"
            ],
            [
             0.9,
             "#4d9221"
            ],
            [
             1,
             "#276419"
            ]
           ],
           "sequential": [
            [
             0,
             "#0d0887"
            ],
            [
             0.1111111111111111,
             "#46039f"
            ],
            [
             0.2222222222222222,
             "#7201a8"
            ],
            [
             0.3333333333333333,
             "#9c179e"
            ],
            [
             0.4444444444444444,
             "#bd3786"
            ],
            [
             0.5555555555555556,
             "#d8576b"
            ],
            [
             0.6666666666666666,
             "#ed7953"
            ],
            [
             0.7777777777777778,
             "#fb9f3a"
            ],
            [
             0.8888888888888888,
             "#fdca26"
            ],
            [
             1,
             "#f0f921"
            ]
           ],
           "sequentialminus": [
            [
             0,
             "#0d0887"
            ],
            [
             0.1111111111111111,
             "#46039f"
            ],
            [
             0.2222222222222222,
             "#7201a8"
            ],
            [
             0.3333333333333333,
             "#9c179e"
            ],
            [
             0.4444444444444444,
             "#bd3786"
            ],
            [
             0.5555555555555556,
             "#d8576b"
            ],
            [
             0.6666666666666666,
             "#ed7953"
            ],
            [
             0.7777777777777778,
             "#fb9f3a"
            ],
            [
             0.8888888888888888,
             "#fdca26"
            ],
            [
             1,
             "#f0f921"
            ]
           ]
          },
          "colorway": [
           "#636efa",
           "#EF553B",
           "#00cc96",
           "#ab63fa",
           "#FFA15A",
           "#19d3f3",
           "#FF6692",
           "#B6E880",
           "#FF97FF",
           "#FECB52"
          ],
          "font": {
           "color": "#f2f5fa"
          },
          "geo": {
           "bgcolor": "rgb(17,17,17)",
           "lakecolor": "rgb(17,17,17)",
           "landcolor": "rgb(17,17,17)",
           "showlakes": true,
           "showland": true,
           "subunitcolor": "#506784"
          },
          "hoverlabel": {
           "align": "left"
          },
          "hovermode": "closest",
          "mapbox": {
           "style": "dark"
          },
          "paper_bgcolor": "rgb(17,17,17)",
          "plot_bgcolor": "rgb(17,17,17)",
          "polar": {
           "angularaxis": {
            "gridcolor": "#506784",
            "linecolor": "#506784",
            "ticks": ""
           },
           "bgcolor": "rgb(17,17,17)",
           "radialaxis": {
            "gridcolor": "#506784",
            "linecolor": "#506784",
            "ticks": ""
           }
          },
          "scene": {
           "xaxis": {
            "backgroundcolor": "rgb(17,17,17)",
            "gridcolor": "#506784",
            "gridwidth": 2,
            "linecolor": "#506784",
            "showbackground": true,
            "ticks": "",
            "zerolinecolor": "#C8D4E3"
           },
           "yaxis": {
            "backgroundcolor": "rgb(17,17,17)",
            "gridcolor": "#506784",
            "gridwidth": 2,
            "linecolor": "#506784",
            "showbackground": true,
            "ticks": "",
            "zerolinecolor": "#C8D4E3"
           },
           "zaxis": {
            "backgroundcolor": "rgb(17,17,17)",
            "gridcolor": "#506784",
            "gridwidth": 2,
            "linecolor": "#506784",
            "showbackground": true,
            "ticks": "",
            "zerolinecolor": "#C8D4E3"
           }
          },
          "shapedefaults": {
           "line": {
            "color": "#f2f5fa"
           }
          },
          "sliderdefaults": {
           "bgcolor": "#C8D4E3",
           "bordercolor": "rgb(17,17,17)",
           "borderwidth": 1,
           "tickwidth": 0
          },
          "ternary": {
           "aaxis": {
            "gridcolor": "#506784",
            "linecolor": "#506784",
            "ticks": ""
           },
           "baxis": {
            "gridcolor": "#506784",
            "linecolor": "#506784",
            "ticks": ""
           },
           "bgcolor": "rgb(17,17,17)",
           "caxis": {
            "gridcolor": "#506784",
            "linecolor": "#506784",
            "ticks": ""
           }
          },
          "title": {
           "x": 0.05
          },
          "updatemenudefaults": {
           "bgcolor": "#506784",
           "borderwidth": 0
          },
          "xaxis": {
           "automargin": true,
           "gridcolor": "#283442",
           "linecolor": "#506784",
           "ticks": "",
           "title": {
            "standoff": 15
           },
           "zerolinecolor": "#283442",
           "zerolinewidth": 2
          },
          "yaxis": {
           "automargin": true,
           "gridcolor": "#283442",
           "linecolor": "#506784",
           "ticks": "",
           "title": {
            "standoff": 15
           },
           "zerolinecolor": "#283442",
           "zerolinewidth": 2
          }
         }
        }
       }
      },
      "text/html": [
       "<div>                            <div id=\"6cc18eb8-40d5-448a-8444-f8bb6186111a\" class=\"plotly-graph-div\" style=\"height:525px; width:100%;\"></div>            <script type=\"text/javascript\">                require([\"plotly\"], function(Plotly) {                    window.PLOTLYENV=window.PLOTLYENV || {};                                    if (document.getElementById(\"6cc18eb8-40d5-448a-8444-f8bb6186111a\")) {                    Plotly.newPlot(                        \"6cc18eb8-40d5-448a-8444-f8bb6186111a\",                        [{\"customdata\":[[88754821,0.0,1021306,\"US\"],[43652944,0.0,525474,\"India\"],[32940507,0.0,673758,\"Brazil\"],[32570121,0.0,151218,\"France\"],[29180489,0.0,142035,\"Germany\"],[23088074,0.0,181398,\"United Kingdom\"],[19523262,0.0,169233,\"Italy\"],[18561861,0.0,24668,\"Korea, South\"],[18195924,0.0,373896,\"Russia\"],[15180444,0.0,99057,\"Turkey\"],[12973615,0.0,108730,\"Spain\"],[10755381,0.0,43089,\"Vietnam\"],[9730993,0.0,31443,\"Japan\"],[9426171,0.0,129145,\"Argentina\"],[8561571,0.0,10384,\"Australia\"],[8353626,0.0,23032,\"Netherlands\"],[7251429,0.0,141444,\"Iran\"],[6265311,0.0,326097,\"Mexico\"],[6198848,0.0,140202,\"Colombia\"],[6112986,0.0,156798,\"Indonesia\"],[6022454,0.0,116453,\"Poland\"],[5257536,0.0,24346,\"Portugal\"],[5040518,0.0,112459,\"Ukraine\"],[4598391,0.0,35816,\"Malaysia\"],[4573219,0.0,20120,\"Austria\"],[4548533,0.0,30882,\"Thailand\"],[4462295,0.0,11069,\"Israel\"],[4320107,0.0,32015,\"Belgium\"],[4101156,0.0,7720,\"Taiwan*\"],[4090523,0.0,58860,\"Chile\"],[3997975,0.0,101880,\"South Africa\"],[3991994,0.0,42215,\"Canada\"],[3943792,0.0,40334,\"Czechia\"],[3843142,0.0,30476,\"Greece\"],[3805774,0.0,13844,\"Switzerland\"],[3720054,0.0,60640,\"Philippines\"],[3675152,0.0,213685,\"Peru\"],[3240466,0.0,6578,\"Denmark\"],[2942130,0.0,65788,\"Romania\"],[2557839,0.0,20160,\"Slovakia\"],[2523404,0.0,19144,\"Sweden\"],[2388414,0.0,25255,\"Iraq\"],[2167619,0.0,14647,\"China\"],[2043051,0.0,16152,\"Serbia\"],[1990375,0.0,29203,\"Bangladesh\"],[1932788,0.0,46661,\"Hungary\"],[1700526,0.0,14068,\"Jordan\"],[1662299,0.0,16844,\"Georgia\"],[1614631,0.0,7536,\"Ireland\"],[1543505,0.0,30424,\"Pakistan\"],[1534799,0.0,1432,\"Singapore\"],[1456245,0.0,1646,\"New Zealand\"],[1451104,0.0,3415,\"Norway\"],[1399173,0.0,19018,\"Kazakhstan\"],[1242241,0.0,16157,\"Morocco\"],[1179497,0.0,37277,\"Bulgaria\"],[1165105,0.0,9181,\"Lithuania\"],[1159241,0.0,16118,\"Croatia\"],[1158485,0.0,4941,\"Finland\"],[1125720,0.0,10477,\"Lebanon\"],[1106459,0.0,8529,\"Cuba\"],[1066127,0.0,28748,\"Tunisia\"],[1050175,0.0,6660,\"Slovenia\"],[994037,0.0,7118,\"Belarus\"],[980446,0.0,11952,\"Nepal\"],[965370,0.0,7373,\"Uruguay\"],[964521,0.0,2324,\"United Arab Emirates\"],[948749,0.0,18725,\"Guatemala\"],[948655,0.0,21970,\"Bolivia\"],[932710,0.0,8384,\"Panama\"],[929653,0.0,2119,\"Mongolia\"],[922166,0.0,35755,\"Ecuador\"],[904934,0.0,8525,\"Costa Rica\"],[841132,0.0,5871,\"Latvia\"],[800462,0.0,9221,\"Saudi Arabia\"],[793388,0.0,9717,\"Azerbaijan\"],[673829,0.0,19036,\"Paraguay\"],[664292,0.0,16526,\"Sri Lanka\"],[662490,0.0,5662,\"West Bank and Gaza\"],[648216,0.0,2556,\"Kuwait\"],[640656,0.0,1500,\"Bahrain\"],[618873,0.0,4383,\"Dominican Republic\"],[613751,0.0,19434,\"Burma\"],[581560,0.0,2599,\"Estonia\"],[530510,0.0,1079,\"Cyprus\"],[528429,0.0,5741,\"Venezuela\"],[521182,0.0,11570,\"Moldova\"],[515645,0.0,24724,\"Egypt\"],[502189,0.0,6430,\"Libya\"],[490486,0.0,7552,\"Ethiopia\"],[429848,0.0,10912,\"Honduras\"],[423771,0.0,8629,\"Armenia\"],[391641,0.0,4628,\"Oman\"],[389415,0.0,680,\"Qatar\"],[379817,0.0,15810,\"Bosnia and Herzegovina\"],[335929,0.0,5668,\"Kenya\"],[327102,0.0,4008,\"Zambia\"],[324154,0.0,2753,\"Botswana\"],[316219,0.0,9335,\"North Macedonia\"],[288176,0.0,3514,\"Albania\"],[271049,0.0,1098,\"Luxembourg\"],[266274,0.0,6875,\"Algeria\"],[258517,0.0,3144,\"Nigeria\"],[255953,0.0,5565,\"Zimbabwe\"],[243768,0.0,2729,\"Montenegro\"],[241738,0.0,1637,\"Uzbekistan\"],[233082,0.0,1008,\"Mauritius\"],[231852,0.0,3143,\"Kosovo\"],[228679,0.0,2213,\"Mozambique\"],[210375,0.0,757,\"Laos\"],[201215,0.0,2991,\"Kyrgyzstan\"],[197707,0.0,179,\"Iceland\"],[183491,0.0,307,\"Maldives\"],[183268,0.0,7728,\"Afghanistan\"],[180970,0.0,4163,\"El Salvador\"],[176682,0.0,225,\"Brunei\"],[169253,0.0,4065,\"Namibia\"],[168394,0.0,3627,\"Uganda\"],[168322,0.0,4028,\"Trinidad and Tobago\"],[166816,0.0,1453,\"Ghana\"],[144092,0.0,3158,\"Jamaica\"],[136362,0.0,3056,\"Cambodia\"],[131691,0.0,1461,\"Rwanda\"],[120068,0.0,1931,\"Cameroon\"],[109043,0.0,762,\"Malta\"],[101320,0.0,1900,\"Angola\"],[91737,0.0,1376,\"Congo (Kinshasa)\"],[86750,0.0,2649,\"Malawi\"],[86504,0.0,1968,\"Senegal\"],[86154,0.0,478,\"Barbados\"],[84084,0.0,805,\"Cote d'Ivoire\"],[80890,0.0,1376,\"Suriname\"],[73219,0.0,1417,\"Eswatini\"],[68225,0.0,1262,\"Guyana\"],[66405,0.0,869,\"Fiji\"],[66098,0.0,1403,\"Madagascar\"],[64948,0.0,680,\"Belize\"],[62745,0.0,4952,\"Sudan\"],[61669,0.0,409,\"Cabo Verde\"],[61296,0.0,986,\"Mauritania\"],[59940,0.0,21,\"Bhutan\"],[55955,0.0,3150,\"Syria\"],[48157,0.0,305,\"Gabon\"],[45000,0.0,167,\"Seychelles\"],[44751,0.0,662,\"Papua New Guinea\"],[44671,0.0,153,\"Andorra\"],[42963,0.0,38,\"Burundi\"],[37624,0.0,275,\"Togo\"],[37358,0.0,443,\"Guinea\"],[36287,0.0,822,\"Bahamas\"],[36174,0.0,841,\"Tanzania\"],[34040,0.0,702,\"Lesotho\"],[31908,0.0,837,\"Haiti\"],[31189,0.0,737,\"Mali\"],[27337,0.0,385,\"Saint Lucia\"],[27216,0.0,163,\"Benin\"],[26900,0.0,1361,\"Somalia\"],[24421,0.0,386,\"Congo (Brazzaville)\"],[22972,0.0,133,\"Timor-Leste\"],[21544,0.0,153,\"Solomon Islands\"],[21044,0.0,387,\"Burkina Faso\"],[18734,0.0,116,\"San Marino\"],[18560,0.0,233,\"Grenada\"],[18141,0.0,85,\"Liechtenstein\"],[17786,0.0,125,\"Tajikistan\"],[17733,0.0,138,\"South Sudan\"],[16467,0.0,183,\"Equatorial Guinea\"],[15690,0.0,189,\"Djibouti\"],[15115,0.0,29,\"Samoa\"],[14852,0.0,68,\"Dominica\"],[14721,0.0,243,\"Nicaragua\"],[14675,0.0,113,\"Central African Republic\"],[13480,0.0,59,\"Monaco\"],[12382,0.0,12,\"Tonga\"],[12009,0.0,365,\"Gambia\"],[11832,0.0,2149,\"Yemen\"],[11642,0.0,14,\"Vanuatu\"],[9827,0.0,103,\"Eritrea\"],[9096,0.0,311,\"Niger\"],[9083,0.0,114,\"Saint Vincent and the Grenadines\"],[8686,0.0,143,\"Antigua and Barbuda\"],[8400,0.0,171,\"Guinea-Bissau\"],[8161,0.0,160,\"Comoros\"],[7718,0.0,125,\"Sierra Leone\"],[7502,0.0,294,\"Liberia\"],[7427,0.0,193,\"Chad\"],[6308,0.0,44,\"Saint Kitts and Nevis\"],[6064,0.0,74,\"Sao Tome and Principe\"],[5269,0.0,6,\"Palau\"],[3236,0.0,13,\"Kiribati\"],[865,0.0,0,\"Summer Olympics 2020\"],[712,0.0,13,\"Diamond Princess\"],[535,0.0,0,\"Winter Olympics 2022\"],[47,0.0,0,\"Marshall Islands\"],[38,0.0,0,\"Micronesia\"],[29,0.0,0,\"Holy See\"],[11,0.0,0,\"Antarctica\"],[9,0.0,2,\"MS Zaandam\"],[1,0.0,6,\"Korea, North\"]],\"geo\":\"geo\",\"hovertemplate\":\"<b>%{hovertext}</b><br><br>Confirmed=%{marker.color:,2f}<br>Recovered=%{customdata[1]}<br>Deaths=%{customdata[2]}<extra></extra>\",\"hovertext\":[\"US\",\"India\",\"Brazil\",\"France\",\"Germany\",\"United Kingdom\",\"Italy\",\"Korea, South\",\"Russia\",\"Turkey\",\"Spain\",\"Vietnam\",\"Japan\",\"Argentina\",\"Australia\",\"Netherlands\",\"Iran\",\"Mexico\",\"Colombia\",\"Indonesia\",\"Poland\",\"Portugal\",\"Ukraine\",\"Malaysia\",\"Austria\",\"Thailand\",\"Israel\",\"Belgium\",\"Taiwan*\",\"Chile\",\"South Africa\",\"Canada\",\"Czechia\",\"Greece\",\"Switzerland\",\"Philippines\",\"Peru\",\"Denmark\",\"Romania\",\"Slovakia\",\"Sweden\",\"Iraq\",\"China\",\"Serbia\",\"Bangladesh\",\"Hungary\",\"Jordan\",\"Georgia\",\"Ireland\",\"Pakistan\",\"Singapore\",\"New Zealand\",\"Norway\",\"Kazakhstan\",\"Morocco\",\"Bulgaria\",\"Lithuania\",\"Croatia\",\"Finland\",\"Lebanon\",\"Cuba\",\"Tunisia\",\"Slovenia\",\"Belarus\",\"Nepal\",\"Uruguay\",\"United Arab Emirates\",\"Guatemala\",\"Bolivia\",\"Panama\",\"Mongolia\",\"Ecuador\",\"Costa Rica\",\"Latvia\",\"Saudi Arabia\",\"Azerbaijan\",\"Paraguay\",\"Sri Lanka\",\"West Bank and Gaza\",\"Kuwait\",\"Bahrain\",\"Dominican Republic\",\"Burma\",\"Estonia\",\"Cyprus\",\"Venezuela\",\"Moldova\",\"Egypt\",\"Libya\",\"Ethiopia\",\"Honduras\",\"Armenia\",\"Oman\",\"Qatar\",\"Bosnia and Herzegovina\",\"Kenya\",\"Zambia\",\"Botswana\",\"North Macedonia\",\"Albania\",\"Luxembourg\",\"Algeria\",\"Nigeria\",\"Zimbabwe\",\"Montenegro\",\"Uzbekistan\",\"Mauritius\",\"Kosovo\",\"Mozambique\",\"Laos\",\"Kyrgyzstan\",\"Iceland\",\"Maldives\",\"Afghanistan\",\"El Salvador\",\"Brunei\",\"Namibia\",\"Uganda\",\"Trinidad and Tobago\",\"Ghana\",\"Jamaica\",\"Cambodia\",\"Rwanda\",\"Cameroon\",\"Malta\",\"Angola\",\"Congo (Kinshasa)\",\"Malawi\",\"Senegal\",\"Barbados\",\"Cote d'Ivoire\",\"Suriname\",\"Eswatini\",\"Guyana\",\"Fiji\",\"Madagascar\",\"Belize\",\"Sudan\",\"Cabo Verde\",\"Mauritania\",\"Bhutan\",\"Syria\",\"Gabon\",\"Seychelles\",\"Papua New Guinea\",\"Andorra\",\"Burundi\",\"Togo\",\"Guinea\",\"Bahamas\",\"Tanzania\",\"Lesotho\",\"Haiti\",\"Mali\",\"Saint Lucia\",\"Benin\",\"Somalia\",\"Congo (Brazzaville)\",\"Timor-Leste\",\"Solomon Islands\",\"Burkina Faso\",\"San Marino\",\"Grenada\",\"Liechtenstein\",\"Tajikistan\",\"South Sudan\",\"Equatorial Guinea\",\"Djibouti\",\"Samoa\",\"Dominica\",\"Nicaragua\",\"Central African Republic\",\"Monaco\",\"Tonga\",\"Gambia\",\"Yemen\",\"Vanuatu\",\"Eritrea\",\"Niger\",\"Saint Vincent and the Grenadines\",\"Antigua and Barbuda\",\"Guinea-Bissau\",\"Comoros\",\"Sierra Leone\",\"Liberia\",\"Chad\",\"Saint Kitts and Nevis\",\"Sao Tome and Principe\",\"Palau\",\"Kiribati\",\"Summer Olympics 2020\",\"Diamond Princess\",\"Winter Olympics 2022\",\"Marshall Islands\",\"Micronesia\",\"Holy See\",\"Antarctica\",\"MS Zaandam\",\"Korea, North\"],\"legendgroup\":\"\",\"locationmode\":\"country names\",\"locations\":[\"US\",\"India\",\"Brazil\",\"France\",\"Germany\",\"United Kingdom\",\"Italy\",\"Korea, South\",\"Russia\",\"Turkey\",\"Spain\",\"Vietnam\",\"Japan\",\"Argentina\",\"Australia\",\"Netherlands\",\"Iran\",\"Mexico\",\"Colombia\",\"Indonesia\",\"Poland\",\"Portugal\",\"Ukraine\",\"Malaysia\",\"Austria\",\"Thailand\",\"Israel\",\"Belgium\",\"Taiwan*\",\"Chile\",\"South Africa\",\"Canada\",\"Czechia\",\"Greece\",\"Switzerland\",\"Philippines\",\"Peru\",\"Denmark\",\"Romania\",\"Slovakia\",\"Sweden\",\"Iraq\",\"China\",\"Serbia\",\"Bangladesh\",\"Hungary\",\"Jordan\",\"Georgia\",\"Ireland\",\"Pakistan\",\"Singapore\",\"New Zealand\",\"Norway\",\"Kazakhstan\",\"Morocco\",\"Bulgaria\",\"Lithuania\",\"Croatia\",\"Finland\",\"Lebanon\",\"Cuba\",\"Tunisia\",\"Slovenia\",\"Belarus\",\"Nepal\",\"Uruguay\",\"United Arab Emirates\",\"Guatemala\",\"Bolivia\",\"Panama\",\"Mongolia\",\"Ecuador\",\"Costa Rica\",\"Latvia\",\"Saudi Arabia\",\"Azerbaijan\",\"Paraguay\",\"Sri Lanka\",\"West Bank and Gaza\",\"Kuwait\",\"Bahrain\",\"Dominican Republic\",\"Burma\",\"Estonia\",\"Cyprus\",\"Venezuela\",\"Moldova\",\"Egypt\",\"Libya\",\"Ethiopia\",\"Honduras\",\"Armenia\",\"Oman\",\"Qatar\",\"Bosnia and Herzegovina\",\"Kenya\",\"Zambia\",\"Botswana\",\"North Macedonia\",\"Albania\",\"Luxembourg\",\"Algeria\",\"Nigeria\",\"Zimbabwe\",\"Montenegro\",\"Uzbekistan\",\"Mauritius\",\"Kosovo\",\"Mozambique\",\"Laos\",\"Kyrgyzstan\",\"Iceland\",\"Maldives\",\"Afghanistan\",\"El Salvador\",\"Brunei\",\"Namibia\",\"Uganda\",\"Trinidad and Tobago\",\"Ghana\",\"Jamaica\",\"Cambodia\",\"Rwanda\",\"Cameroon\",\"Malta\",\"Angola\",\"Congo (Kinshasa)\",\"Malawi\",\"Senegal\",\"Barbados\",\"Cote d'Ivoire\",\"Suriname\",\"Eswatini\",\"Guyana\",\"Fiji\",\"Madagascar\",\"Belize\",\"Sudan\",\"Cabo Verde\",\"Mauritania\",\"Bhutan\",\"Syria\",\"Gabon\",\"Seychelles\",\"Papua New Guinea\",\"Andorra\",\"Burundi\",\"Togo\",\"Guinea\",\"Bahamas\",\"Tanzania\",\"Lesotho\",\"Haiti\",\"Mali\",\"Saint Lucia\",\"Benin\",\"Somalia\",\"Congo (Brazzaville)\",\"Timor-Leste\",\"Solomon Islands\",\"Burkina Faso\",\"San Marino\",\"Grenada\",\"Liechtenstein\",\"Tajikistan\",\"South Sudan\",\"Equatorial Guinea\",\"Djibouti\",\"Samoa\",\"Dominica\",\"Nicaragua\",\"Central African Republic\",\"Monaco\",\"Tonga\",\"Gambia\",\"Yemen\",\"Vanuatu\",\"Eritrea\",\"Niger\",\"Saint Vincent and the Grenadines\",\"Antigua and Barbuda\",\"Guinea-Bissau\",\"Comoros\",\"Sierra Leone\",\"Liberia\",\"Chad\",\"Saint Kitts and Nevis\",\"Sao Tome and Principe\",\"Palau\",\"Kiribati\",\"Summer Olympics 2020\",\"Diamond Princess\",\"Winter Olympics 2022\",\"Marshall Islands\",\"Micronesia\",\"Holy See\",\"Antarctica\",\"MS Zaandam\",\"Korea, North\"],\"marker\":{\"color\":[88754821,43652944,32940507,32570121,29180489,23088074,19523262,18561861,18195924,15180444,12973615,10755381,9730993,9426171,8561571,8353626,7251429,6265311,6198848,6112986,6022454,5257536,5040518,4598391,4573219,4548533,4462295,4320107,4101156,4090523,3997975,3991994,3943792,3843142,3805774,3720054,3675152,3240466,2942130,2557839,2523404,2388414,2167619,2043051,1990375,1932788,1700526,1662299,1614631,1543505,1534799,1456245,1451104,1399173,1242241,1179497,1165105,1159241,1158485,1125720,1106459,1066127,1050175,994037,980446,965370,964521,948749,948655,932710,929653,922166,904934,841132,800462,793388,673829,664292,662490,648216,640656,618873,613751,581560,530510,528429,521182,515645,502189,490486,429848,423771,391641,389415,379817,335929,327102,324154,316219,288176,271049,266274,258517,255953,243768,241738,233082,231852,228679,210375,201215,197707,183491,183268,180970,176682,169253,168394,168322,166816,144092,136362,131691,120068,109043,101320,91737,86750,86504,86154,84084,80890,73219,68225,66405,66098,64948,62745,61669,61296,59940,55955,48157,45000,44751,44671,42963,37624,37358,36287,36174,34040,31908,31189,27337,27216,26900,24421,22972,21544,21044,18734,18560,18141,17786,17733,16467,15690,15115,14852,14721,14675,13480,12382,12009,11832,11642,9827,9096,9083,8686,8400,8161,7718,7502,7427,6308,6064,5269,3236,865,712,535,47,38,29,11,9,1],\"coloraxis\":\"coloraxis\",\"size\":[88754821,43652944,32940507,32570121,29180489,23088074,19523262,18561861,18195924,15180444,12973615,10755381,9730993,9426171,8561571,8353626,7251429,6265311,6198848,6112986,6022454,5257536,5040518,4598391,4573219,4548533,4462295,4320107,4101156,4090523,3997975,3991994,3943792,3843142,3805774,3720054,3675152,3240466,2942130,2557839,2523404,2388414,2167619,2043051,1990375,1932788,1700526,1662299,1614631,1543505,1534799,1456245,1451104,1399173,1242241,1179497,1165105,1159241,1158485,1125720,1106459,1066127,1050175,994037,980446,965370,964521,948749,948655,932710,929653,922166,904934,841132,800462,793388,673829,664292,662490,648216,640656,618873,613751,581560,530510,528429,521182,515645,502189,490486,429848,423771,391641,389415,379817,335929,327102,324154,316219,288176,271049,266274,258517,255953,243768,241738,233082,231852,228679,210375,201215,197707,183491,183268,180970,176682,169253,168394,168322,166816,144092,136362,131691,120068,109043,101320,91737,86750,86504,86154,84084,80890,73219,68225,66405,66098,64948,62745,61669,61296,59940,55955,48157,45000,44751,44671,42963,37624,37358,36287,36174,34040,31908,31189,27337,27216,26900,24421,22972,21544,21044,18734,18560,18141,17786,17733,16467,15690,15115,14852,14721,14675,13480,12382,12009,11832,11642,9827,9096,9083,8686,8400,8161,7718,7502,7427,6308,6064,5269,3236,865,712,535,47,38,29,11,9,1],\"sizemode\":\"area\",\"sizeref\":55471.763125,\"symbol\":\"circle\"},\"mode\":\"markers\",\"name\":\"\",\"showlegend\":false,\"type\":\"scattergeo\"}],                        {\"template\":{\"data\":{\"barpolar\":[{\"marker\":{\"line\":{\"color\":\"rgb(17,17,17)\",\"width\":0.5},\"pattern\":{\"fillmode\":\"overlay\",\"size\":10,\"solidity\":0.2}},\"type\":\"barpolar\"}],\"bar\":[{\"error_x\":{\"color\":\"#f2f5fa\"},\"error_y\":{\"color\":\"#f2f5fa\"},\"marker\":{\"line\":{\"color\":\"rgb(17,17,17)\",\"width\":0.5},\"pattern\":{\"fillmode\":\"overlay\",\"size\":10,\"solidity\":0.2}},\"type\":\"bar\"}],\"carpet\":[{\"aaxis\":{\"endlinecolor\":\"#A2B1C6\",\"gridcolor\":\"#506784\",\"linecolor\":\"#506784\",\"minorgridcolor\":\"#506784\",\"startlinecolor\":\"#A2B1C6\"},\"baxis\":{\"endlinecolor\":\"#A2B1C6\",\"gridcolor\":\"#506784\",\"linecolor\":\"#506784\",\"minorgridcolor\":\"#506784\",\"startlinecolor\":\"#A2B1C6\"},\"type\":\"carpet\"}],\"choropleth\":[{\"colorbar\":{\"outlinewidth\":0,\"ticks\":\"\"},\"type\":\"choropleth\"}],\"contourcarpet\":[{\"colorbar\":{\"outlinewidth\":0,\"ticks\":\"\"},\"type\":\"contourcarpet\"}],\"contour\":[{\"colorbar\":{\"outlinewidth\":0,\"ticks\":\"\"},\"colorscale\":[[0.0,\"#0d0887\"],[0.1111111111111111,\"#46039f\"],[0.2222222222222222,\"#7201a8\"],[0.3333333333333333,\"#9c179e\"],[0.4444444444444444,\"#bd3786\"],[0.5555555555555556,\"#d8576b\"],[0.6666666666666666,\"#ed7953\"],[0.7777777777777778,\"#fb9f3a\"],[0.8888888888888888,\"#fdca26\"],[1.0,\"#f0f921\"]],\"type\":\"contour\"}],\"heatmapgl\":[{\"colorbar\":{\"outlinewidth\":0,\"ticks\":\"\"},\"colorscale\":[[0.0,\"#0d0887\"],[0.1111111111111111,\"#46039f\"],[0.2222222222222222,\"#7201a8\"],[0.3333333333333333,\"#9c179e\"],[0.4444444444444444,\"#bd3786\"],[0.5555555555555556,\"#d8576b\"],[0.6666666666666666,\"#ed7953\"],[0.7777777777777778,\"#fb9f3a\"],[0.8888888888888888,\"#fdca26\"],[1.0,\"#f0f921\"]],\"type\":\"heatmapgl\"}],\"heatmap\":[{\"colorbar\":{\"outlinewidth\":0,\"ticks\":\"\"},\"colorscale\":[[0.0,\"#0d0887\"],[0.1111111111111111,\"#46039f\"],[0.2222222222222222,\"#7201a8\"],[0.3333333333333333,\"#9c179e\"],[0.4444444444444444,\"#bd3786\"],[0.5555555555555556,\"#d8576b\"],[0.6666666666666666,\"#ed7953\"],[0.7777777777777778,\"#fb9f3a\"],[0.8888888888888888,\"#fdca26\"],[1.0,\"#f0f921\"]],\"type\":\"heatmap\"}],\"histogram2dcontour\":[{\"colorbar\":{\"outlinewidth\":0,\"ticks\":\"\"},\"colorscale\":[[0.0,\"#0d0887\"],[0.1111111111111111,\"#46039f\"],[0.2222222222222222,\"#7201a8\"],[0.3333333333333333,\"#9c179e\"],[0.4444444444444444,\"#bd3786\"],[0.5555555555555556,\"#d8576b\"],[0.6666666666666666,\"#ed7953\"],[0.7777777777777778,\"#fb9f3a\"],[0.8888888888888888,\"#fdca26\"],[1.0,\"#f0f921\"]],\"type\":\"histogram2dcontour\"}],\"histogram2d\":[{\"colorbar\":{\"outlinewidth\":0,\"ticks\":\"\"},\"colorscale\":[[0.0,\"#0d0887\"],[0.1111111111111111,\"#46039f\"],[0.2222222222222222,\"#7201a8\"],[0.3333333333333333,\"#9c179e\"],[0.4444444444444444,\"#bd3786\"],[0.5555555555555556,\"#d8576b\"],[0.6666666666666666,\"#ed7953\"],[0.7777777777777778,\"#fb9f3a\"],[0.8888888888888888,\"#fdca26\"],[1.0,\"#f0f921\"]],\"type\":\"histogram2d\"}],\"histogram\":[{\"marker\":{\"pattern\":{\"fillmode\":\"overlay\",\"size\":10,\"solidity\":0.2}},\"type\":\"histogram\"}],\"mesh3d\":[{\"colorbar\":{\"outlinewidth\":0,\"ticks\":\"\"},\"type\":\"mesh3d\"}],\"parcoords\":[{\"line\":{\"colorbar\":{\"outlinewidth\":0,\"ticks\":\"\"}},\"type\":\"parcoords\"}],\"pie\":[{\"automargin\":true,\"type\":\"pie\"}],\"scatter3d\":[{\"line\":{\"colorbar\":{\"outlinewidth\":0,\"ticks\":\"\"}},\"marker\":{\"colorbar\":{\"outlinewidth\":0,\"ticks\":\"\"}},\"type\":\"scatter3d\"}],\"scattercarpet\":[{\"marker\":{\"colorbar\":{\"outlinewidth\":0,\"ticks\":\"\"}},\"type\":\"scattercarpet\"}],\"scattergeo\":[{\"marker\":{\"colorbar\":{\"outlinewidth\":0,\"ticks\":\"\"}},\"type\":\"scattergeo\"}],\"scattergl\":[{\"marker\":{\"line\":{\"color\":\"#283442\"}},\"type\":\"scattergl\"}],\"scattermapbox\":[{\"marker\":{\"colorbar\":{\"outlinewidth\":0,\"ticks\":\"\"}},\"type\":\"scattermapbox\"}],\"scatterpolargl\":[{\"marker\":{\"colorbar\":{\"outlinewidth\":0,\"ticks\":\"\"}},\"type\":\"scatterpolargl\"}],\"scatterpolar\":[{\"marker\":{\"colorbar\":{\"outlinewidth\":0,\"ticks\":\"\"}},\"type\":\"scatterpolar\"}],\"scatter\":[{\"marker\":{\"line\":{\"color\":\"#283442\"}},\"type\":\"scatter\"}],\"scatterternary\":[{\"marker\":{\"colorbar\":{\"outlinewidth\":0,\"ticks\":\"\"}},\"type\":\"scatterternary\"}],\"surface\":[{\"colorbar\":{\"outlinewidth\":0,\"ticks\":\"\"},\"colorscale\":[[0.0,\"#0d0887\"],[0.1111111111111111,\"#46039f\"],[0.2222222222222222,\"#7201a8\"],[0.3333333333333333,\"#9c179e\"],[0.4444444444444444,\"#bd3786\"],[0.5555555555555556,\"#d8576b\"],[0.6666666666666666,\"#ed7953\"],[0.7777777777777778,\"#fb9f3a\"],[0.8888888888888888,\"#fdca26\"],[1.0,\"#f0f921\"]],\"type\":\"surface\"}],\"table\":[{\"cells\":{\"fill\":{\"color\":\"#506784\"},\"line\":{\"color\":\"rgb(17,17,17)\"}},\"header\":{\"fill\":{\"color\":\"#2a3f5f\"},\"line\":{\"color\":\"rgb(17,17,17)\"}},\"type\":\"table\"}]},\"layout\":{\"annotationdefaults\":{\"arrowcolor\":\"#f2f5fa\",\"arrowhead\":0,\"arrowwidth\":1},\"autotypenumbers\":\"strict\",\"coloraxis\":{\"colorbar\":{\"outlinewidth\":0,\"ticks\":\"\"}},\"colorscale\":{\"diverging\":[[0,\"#8e0152\"],[0.1,\"#c51b7d\"],[0.2,\"#de77ae\"],[0.3,\"#f1b6da\"],[0.4,\"#fde0ef\"],[0.5,\"#f7f7f7\"],[0.6,\"#e6f5d0\"],[0.7,\"#b8e186\"],[0.8,\"#7fbc41\"],[0.9,\"#4d9221\"],[1,\"#276419\"]],\"sequential\":[[0.0,\"#0d0887\"],[0.1111111111111111,\"#46039f\"],[0.2222222222222222,\"#7201a8\"],[0.3333333333333333,\"#9c179e\"],[0.4444444444444444,\"#bd3786\"],[0.5555555555555556,\"#d8576b\"],[0.6666666666666666,\"#ed7953\"],[0.7777777777777778,\"#fb9f3a\"],[0.8888888888888888,\"#fdca26\"],[1.0,\"#f0f921\"]],\"sequentialminus\":[[0.0,\"#0d0887\"],[0.1111111111111111,\"#46039f\"],[0.2222222222222222,\"#7201a8\"],[0.3333333333333333,\"#9c179e\"],[0.4444444444444444,\"#bd3786\"],[0.5555555555555556,\"#d8576b\"],[0.6666666666666666,\"#ed7953\"],[0.7777777777777778,\"#fb9f3a\"],[0.8888888888888888,\"#fdca26\"],[1.0,\"#f0f921\"]]},\"colorway\":[\"#636efa\",\"#EF553B\",\"#00cc96\",\"#ab63fa\",\"#FFA15A\",\"#19d3f3\",\"#FF6692\",\"#B6E880\",\"#FF97FF\",\"#FECB52\"],\"font\":{\"color\":\"#f2f5fa\"},\"geo\":{\"bgcolor\":\"rgb(17,17,17)\",\"lakecolor\":\"rgb(17,17,17)\",\"landcolor\":\"rgb(17,17,17)\",\"showlakes\":true,\"showland\":true,\"subunitcolor\":\"#506784\"},\"hoverlabel\":{\"align\":\"left\"},\"hovermode\":\"closest\",\"mapbox\":{\"style\":\"dark\"},\"paper_bgcolor\":\"rgb(17,17,17)\",\"plot_bgcolor\":\"rgb(17,17,17)\",\"polar\":{\"angularaxis\":{\"gridcolor\":\"#506784\",\"linecolor\":\"#506784\",\"ticks\":\"\"},\"bgcolor\":\"rgb(17,17,17)\",\"radialaxis\":{\"gridcolor\":\"#506784\",\"linecolor\":\"#506784\",\"ticks\":\"\"}},\"scene\":{\"xaxis\":{\"backgroundcolor\":\"rgb(17,17,17)\",\"gridcolor\":\"#506784\",\"gridwidth\":2,\"linecolor\":\"#506784\",\"showbackground\":true,\"ticks\":\"\",\"zerolinecolor\":\"#C8D4E3\"},\"yaxis\":{\"backgroundcolor\":\"rgb(17,17,17)\",\"gridcolor\":\"#506784\",\"gridwidth\":2,\"linecolor\":\"#506784\",\"showbackground\":true,\"ticks\":\"\",\"zerolinecolor\":\"#C8D4E3\"},\"zaxis\":{\"backgroundcolor\":\"rgb(17,17,17)\",\"gridcolor\":\"#506784\",\"gridwidth\":2,\"linecolor\":\"#506784\",\"showbackground\":true,\"ticks\":\"\",\"zerolinecolor\":\"#C8D4E3\"}},\"shapedefaults\":{\"line\":{\"color\":\"#f2f5fa\"}},\"sliderdefaults\":{\"bgcolor\":\"#C8D4E3\",\"bordercolor\":\"rgb(17,17,17)\",\"borderwidth\":1,\"tickwidth\":0},\"ternary\":{\"aaxis\":{\"gridcolor\":\"#506784\",\"linecolor\":\"#506784\",\"ticks\":\"\"},\"baxis\":{\"gridcolor\":\"#506784\",\"linecolor\":\"#506784\",\"ticks\":\"\"},\"bgcolor\":\"rgb(17,17,17)\",\"caxis\":{\"gridcolor\":\"#506784\",\"linecolor\":\"#506784\",\"ticks\":\"\"}},\"title\":{\"x\":0.05},\"updatemenudefaults\":{\"bgcolor\":\"#506784\",\"borderwidth\":0},\"xaxis\":{\"automargin\":true,\"gridcolor\":\"#283442\",\"linecolor\":\"#506784\",\"ticks\":\"\",\"title\":{\"standoff\":15},\"zerolinecolor\":\"#283442\",\"zerolinewidth\":2},\"yaxis\":{\"automargin\":true,\"gridcolor\":\"#283442\",\"linecolor\":\"#506784\",\"ticks\":\"\",\"title\":{\"standoff\":15},\"zerolinecolor\":\"#283442\",\"zerolinewidth\":2}}},\"geo\":{\"domain\":{\"x\":[0.0,1.0],\"y\":[0.0,1.0]},\"center\":{}},\"coloraxis\":{\"colorbar\":{\"title\":{\"text\":\"Confirmed\"}},\"colorscale\":[[0.0,\"#0d0887\"],[0.1111111111111111,\"#46039f\"],[0.2222222222222222,\"#7201a8\"],[0.3333333333333333,\"#9c179e\"],[0.4444444444444444,\"#bd3786\"],[0.5555555555555556,\"#d8576b\"],[0.6666666666666666,\"#ed7953\"],[0.7777777777777778,\"#fb9f3a\"],[0.8888888888888888,\"#fdca26\"],[1.0,\"#f0f921\"]]},\"legend\":{\"tracegroupgap\":0,\"itemsizing\":\"constant\"},\"margin\":{\"t\":60}},                        {\"responsive\": true}                    ).then(function(){\n",
       "                            \n",
       "var gd = document.getElementById('6cc18eb8-40d5-448a-8444-f8bb6186111a');\n",
       "var x = new MutationObserver(function (mutations, observer) {{\n",
       "        var display = window.getComputedStyle(gd).display;\n",
       "        if (!display || display === 'none') {{\n",
       "            console.log([gd, 'removed!']);\n",
       "            Plotly.purge(gd);\n",
       "            observer.disconnect();\n",
       "        }}\n",
       "}});\n",
       "\n",
       "// Listen for the removal of the full notebook cells\n",
       "var notebookContainer = gd.closest('#notebook-container');\n",
       "if (notebookContainer) {{\n",
       "    x.observe(notebookContainer, {childList: true});\n",
       "}}\n",
       "\n",
       "// Listen for the clearing of the current output cell\n",
       "var outputEl = gd.closest('.output');\n",
       "if (outputEl) {{\n",
       "    x.observe(outputEl, {childList: true});\n",
       "}}\n",
       "\n",
       "                        })                };                });            </script>        </div>"
      ]
     },
     "metadata": {},
     "output_type": "display_data"
    }
   ],
   "source": [
    "import plotly.express as px\n",
    "from data import countries_df\n",
    "\n",
    "print(countries_df.head())\n",
    "\n",
    "fig = px.scatter_geo(countries_df, \n",
    "                    locations=\"Country_Region\",\n",
    "                    locationmode = \"country names\",\n",
    "                    color=\"Confirmed\",\n",
    "                    hover_name=\"Country_Region\",\n",
    "                    hover_data={'Confirmed':':,2f', \"Recovered\":True, \"Deaths\":True, \"Country_Region\":False},\n",
    "                    size = \"Confirmed\",\n",
    "                    size_max = 40,\n",
    "                    template=\"plotly_dark\"\n",
    "                    )\n",
    "fig.show()"
   ]
  }
 ],
 "metadata": {
  "kernelspec": {
   "display_name": "Python 3 (ipykernel)",
   "language": "python",
   "name": "python3"
  },
  "language_info": {
   "codemirror_mode": {
    "name": "ipython",
    "version": 3
   },
   "file_extension": ".py",
   "mimetype": "text/x-python",
   "name": "python",
   "nbconvert_exporter": "python",
   "pygments_lexer": "ipython3",
   "version": "3.10.5"
  }
 },
 "nbformat": 4,
 "nbformat_minor": 5
}
